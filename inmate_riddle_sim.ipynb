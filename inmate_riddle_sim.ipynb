{
 "cells": [
  {
   "cell_type": "code",
   "execution_count": 888,
   "id": "bc0c0fbb",
   "metadata": {},
   "outputs": [],
   "source": [
    "import numpy as np\n",
    "import pandas as pd\n",
    "import random\n",
    "from random import randint\n",
    "from random import shuffle"
   ]
  },
  {
   "cell_type": "code",
   "execution_count": 911,
   "id": "484a80c0",
   "metadata": {},
   "outputs": [],
   "source": [
    "n = 100000"
   ]
  },
  {
   "cell_type": "code",
   "execution_count": 912,
   "id": "ce26ef04",
   "metadata": {},
   "outputs": [],
   "source": [
    "class Inmate:\n",
    "    id = None\n",
    "    isOut = None\n",
    "    \n",
    "    def __init__(self,id,isOut=False):   \n",
    "        self.id = id\n",
    "        self.isOut = False\n",
    "        \n",
    "    def updateIsOut(self,box):\n",
    "        if(box.id == self.id):\n",
    "            self.isOut = True\n",
    "        return self.isOut\n",
    "    \n",
    "    def Go(self,gulag):\n",
    "        nextBox = self.id\n",
    "        opened_boxes = 0\n",
    "        while(opened_boxes < n/2 and self.isOut == False):\n",
    "            self.updateIsOut(gulag.boxes[nextBox])\n",
    "            nextBox = gulag.boxes[nextBox].id\n",
    "            opened_boxes = opened_boxes+1\n",
    "                         \n",
    "        return self.isOut"
   ]
  },
  {
   "cell_type": "code",
   "execution_count": 913,
   "id": "c8d3f273",
   "metadata": {},
   "outputs": [],
   "source": [
    "class Box:\n",
    "    id = None\n",
    "    def __init__(self,id):   \n",
    "        self.id = id"
   ]
  },
  {
   "cell_type": "code",
   "execution_count": 914,
   "id": "940d9c74",
   "metadata": {},
   "outputs": [],
   "source": [
    "class Gulag:\n",
    "    boxes = None\n",
    "    def __init__(self):\n",
    "        self.boxes = []\n",
    "        for i in range(n):  \n",
    "            tmp = Box(i)\n",
    "            self.boxes.append(tmp)\n",
    "        shuffle(self.boxes)        "
   ]
  },
  {
   "cell_type": "code",
   "execution_count": 915,
   "id": "8f6a4726",
   "metadata": {},
   "outputs": [],
   "source": [
    "class Riddle:\n",
    "    \n",
    "    inmates = None\n",
    "    gulag = None\n",
    "    \n",
    "    def __init__(self):\n",
    "        self.inmates = []\n",
    "        self.gulag = Gulag()\n",
    "        for i in range(n):  \n",
    "            tmp = Inmate(i)\n",
    "            self.inmates.append(tmp)      \n",
    "    \n",
    "    def play(self):\n",
    "        for i in self.inmates:\n",
    "            if i.Go(self.gulag) == False:\n",
    "#                 print(\"Mission Faild ,will get them next time !\")\n",
    "                return False\n",
    "#         print(\"---------------------------\")\n",
    "#         print(\"We Did it !, We are Free\")\n",
    "        return True\n",
    "        "
   ]
  },
  {
   "cell_type": "code",
   "execution_count": null,
   "id": "991ad1b3",
   "metadata": {
    "scrolled": true
   },
   "outputs": [],
   "source": [
    "seccess = 0\n",
    "tries = 100\n",
    "for x in range(tries):\n",
    "    g = Riddle()\n",
    "    res = g.play()\n",
    "    if res == True:\n",
    "        seccess=seccess+1\n",
    "prc = seccess/tries\n",
    "print(\"% of Seccess is \"+str(prc))"
   ]
  },
  {
   "cell_type": "code",
   "execution_count": null,
   "id": "cc2abf02",
   "metadata": {},
   "outputs": [],
   "source": []
  },
  {
   "cell_type": "code",
   "execution_count": null,
   "id": "b31bf1e7",
   "metadata": {},
   "outputs": [],
   "source": []
  },
  {
   "cell_type": "code",
   "execution_count": null,
   "id": "402432de",
   "metadata": {},
   "outputs": [],
   "source": []
  },
  {
   "cell_type": "code",
   "execution_count": 244,
   "id": "de4dedbb",
   "metadata": {},
   "outputs": [],
   "source": []
  },
  {
   "cell_type": "code",
   "execution_count": null,
   "id": "95093031",
   "metadata": {},
   "outputs": [],
   "source": []
  },
  {
   "cell_type": "code",
   "execution_count": 35,
   "id": "8a48064f",
   "metadata": {},
   "outputs": [],
   "source": []
  },
  {
   "cell_type": "code",
   "execution_count": null,
   "id": "29b9e832",
   "metadata": {},
   "outputs": [],
   "source": []
  }
 ],
 "metadata": {
  "kernelspec": {
   "display_name": "Python 3",
   "language": "python",
   "name": "python3"
  },
  "language_info": {
   "codemirror_mode": {
    "name": "ipython",
    "version": 3
   },
   "file_extension": ".py",
   "mimetype": "text/x-python",
   "name": "python",
   "nbconvert_exporter": "python",
   "pygments_lexer": "ipython3",
   "version": "3.8.8"
  }
 },
 "nbformat": 4,
 "nbformat_minor": 5
}
